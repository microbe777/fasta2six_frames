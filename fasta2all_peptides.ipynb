{
 "cells": [
  {
   "cell_type": "code",
   "execution_count": 2,
   "metadata": {
    "collapsed": false
   },
   "outputs": [],
   "source": [
    "from Bio import SeqIO\n",
    "record = SeqIO.read(\"/home/m/genome_files/NC_014328.fasta\", \"fasta\")\n",
    "table = 11\n",
    "min_pro_len = 10\n",
    "count = 0\n",
    "with open('/home/m/Desktop/temp/NC_014328_all_peptides10plus.faa', 'w+') as f:\n",
    "    for strand, nuc in [(+1, record.seq), (-1, record.seq.reverse_complement())]:\n",
    "        for frame in range(3):\n",
    "            length = 3 * ((len(record)-frame) // 3) #Multiple of three\n",
    "            for pro in nuc[frame:frame+length].translate(table).split(\"*\"):\n",
    "                if len(pro) >= min_pro_len:\n",
    "                    count=count+1\n",
    "                    sseq=(\">count %i\\t length %i\\t strand %i\\t frame %i\\n%s\\n\" % (count, len(pro), strand, frame, pro))\n",
    "                    f.write(sseq)"
   ]
  },
  {
   "cell_type": "markdown",
   "metadata": {},
   "source": [
    "# This will generate peptides with genome positions"
   ]
  },
  {
   "cell_type": "code",
   "execution_count": 1,
   "metadata": {
    "collapsed": true
   },
   "outputs": [],
   "source": [
    "from Bio import SeqIO\n",
    "def find_orfs_with_trans(seq, trans_table, min_protein_length):\n",
    "    answer = []\n",
    "    seq_len = len(seq)\n",
    "    for strand, nuc in [(+1, seq), (-1, seq.reverse_complement())]:\n",
    "        for frame in range(3):\n",
    "            trans = str(nuc[frame:].translate(trans_table))\n",
    "            trans_len = len(trans)\n",
    "            aa_start = 0\n",
    "            aa_end = 0\n",
    "            while aa_start < trans_len:\n",
    "                aa_end = trans.find(\"*\", aa_start)\n",
    "                if aa_end == -1:\n",
    "                    aa_end = trans_len\n",
    "                if aa_end-aa_start >= min_protein_length:\n",
    "                    if strand == 1:\n",
    "                        start = frame+aa_start*3\n",
    "                        end = min(seq_len,frame+aa_end*3+3)\n",
    "                    else:\n",
    "                        start = seq_len-frame-aa_end*3-3\n",
    "                        end = seq_len-frame-aa_start*3\n",
    "                    answer.append((start, end, strand,\n",
    "                                   trans[aa_start:aa_end]))\n",
    "                aa_start = aa_end+1\n",
    "    answer.sort()\n",
    "    return answer"
   ]
  },
  {
   "cell_type": "code",
   "execution_count": 3,
   "metadata": {
    "collapsed": false
   },
   "outputs": [],
   "source": [
    "record = SeqIO.read(\"/home/m/genome_files/NC_014328.gbk\",\"genbank\")\n",
    "table = 11\n",
    "min_pro_len = 10\n",
    "counter = 0\n",
    "orf_list = find_orfs_with_trans(record.seq, table, min_pro_len)\n",
    "with open('/home/m/Dropbox/collaboration_with_sam_ernesto/all_frames2faa/NC_014328_all_peptides10plus_with_positions.faa', 'w+') as f:\n",
    "    for start, end, strand, pro in orf_list:\n",
    "        counter =counter+1\n",
    "        sseq=(\">peptide_%s %s..%s length%i strand %i\\n%s\\n\" % (counter, start, end, len(pro), strand, pro))\n",
    "        f.write(sseq)"
   ]
  },
  {
   "cell_type": "code",
   "execution_count": null,
   "metadata": {
    "collapsed": true
   },
   "outputs": [],
   "source": []
  }
 ],
 "metadata": {
  "kernelspec": {
   "display_name": "Python 2",
   "language": "python",
   "name": "python2"
  },
  "language_info": {
   "codemirror_mode": {
    "name": "ipython",
    "version": 2
   },
   "file_extension": ".py",
   "mimetype": "text/x-python",
   "name": "python",
   "nbconvert_exporter": "python",
   "pygments_lexer": "ipython2",
   "version": "2.7.11"
  }
 },
 "nbformat": 4,
 "nbformat_minor": 0
}
